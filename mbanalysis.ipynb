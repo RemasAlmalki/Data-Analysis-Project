{
 "cells": [
  {
   "cell_type": "code",
   "execution_count": 1,
   "id": "dd906351",
   "metadata": {
    "_cell_guid": "b1076dfc-b9ad-4769-8c92-a6c4dae69d19",
    "_uuid": "8f2839f25d086af736a60e9eeb907d3b93b6e0e5",
    "execution": {
     "iopub.execute_input": "2024-10-21T13:48:11.033909Z",
     "iopub.status.busy": "2024-10-21T13:48:11.033500Z",
     "iopub.status.idle": "2024-10-21T13:48:11.862306Z",
     "shell.execute_reply": "2024-10-21T13:48:11.861286Z"
    },
    "papermill": {
     "duration": 0.840353,
     "end_time": "2024-10-21T13:48:11.864712",
     "exception": false,
     "start_time": "2024-10-21T13:48:11.024359",
     "status": "completed"
    },
    "tags": []
   },
   "outputs": [
    {
     "name": "stdout",
     "output_type": "stream",
     "text": [
      "/kaggle/input/market-basket-analysis/Assignment-1_Data.xlsx\n",
      "/kaggle/input/market-basket-analysis/Assignment-1_Data.csv\n"
     ]
    }
   ],
   "source": [
    "# This Python 3 environment comes with many helpful analytics libraries installed\n",
    "# It is defined by the kaggle/python Docker image: https://github.com/kaggle/docker-python\n",
    "# For example, here's several helpful packages to load\n",
    "\n",
    "import numpy as np # linear algebra\n",
    "import pandas as pd # data processing, CSV file I/O (e.g. pd.read_csv)\n",
    "\n",
    "# Input data files are available in the read-only \"../input/\" directory\n",
    "# For example, running this (by clicking run or pressing Shift+Enter) will list all files under the input directory\n",
    "\n",
    "import os\n",
    "for dirname, _, filenames in os.walk('/kaggle/input'):\n",
    "    for filename in filenames:\n",
    "        print(os.path.join(dirname, filename))\n",
    "\n",
    "# You can write up to 20GB to the current directory (/kaggle/working/) that gets preserved as output when you create a version using \"Save & Run All\" \n",
    "# You can also write temporary files to /kaggle/temp/, but they won't be saved outside of the current session"
   ]
  },
  {
   "cell_type": "code",
   "execution_count": 2,
   "id": "e4a6cfaa",
   "metadata": {
    "execution": {
     "iopub.execute_input": "2024-10-21T13:48:11.879646Z",
     "iopub.status.busy": "2024-10-21T13:48:11.879113Z",
     "iopub.status.idle": "2024-10-21T13:48:12.165899Z",
     "shell.execute_reply": "2024-10-21T13:48:12.164810Z"
    },
    "papermill": {
     "duration": 0.297001,
     "end_time": "2024-10-21T13:48:12.168358",
     "exception": false,
     "start_time": "2024-10-21T13:48:11.871357",
     "status": "completed"
    },
    "tags": []
   },
   "outputs": [
    {
     "name": "stdout",
     "output_type": "stream",
     "text": [
      "Path to dataset files: /kaggle/input/market-basket-analysis\n"
     ]
    }
   ],
   "source": [
    "import kagglehub\n",
    "\n",
    "# Download latest version\n",
    "path = kagglehub.dataset_download(\"aslanahmedov/market-basket-analysis\")\n",
    "\n",
    "print(\"Path to dataset files:\", path)"
   ]
  },
  {
   "cell_type": "code",
   "execution_count": 3,
   "id": "a676fd65",
   "metadata": {
    "execution": {
     "iopub.execute_input": "2024-10-21T13:48:12.183256Z",
     "iopub.status.busy": "2024-10-21T13:48:12.182814Z",
     "iopub.status.idle": "2024-10-21T13:48:14.325361Z",
     "shell.execute_reply": "2024-10-21T13:48:14.324323Z"
    },
    "papermill": {
     "duration": 2.153007,
     "end_time": "2024-10-21T13:48:14.327990",
     "exception": false,
     "start_time": "2024-10-21T13:48:12.174983",
     "status": "completed"
    },
    "tags": []
   },
   "outputs": [],
   "source": [
    "import numpy as np\n",
    "import pandas as pd\n",
    "import matplotlib.pyplot as plt\n",
    "import seaborn as sns\n",
    "import plotly.express as px\n",
    "import plotly.graph_objects as go\n",
    "from plotly.subplots import make_subplots  # Importing make_subplots\n",
    "\n",
    "from mlxtend.frequent_patterns import apriori,association_rules\n",
    "\n",
    "\n",
    "import warnings\n",
    "warnings.filterwarnings(\"ignore\")"
   ]
  },
  {
   "cell_type": "code",
   "execution_count": 4,
   "id": "6efabcca",
   "metadata": {
    "execution": {
     "iopub.execute_input": "2024-10-21T13:48:14.343581Z",
     "iopub.status.busy": "2024-10-21T13:48:14.342480Z",
     "iopub.status.idle": "2024-10-21T13:48:15.485895Z",
     "shell.execute_reply": "2024-10-21T13:48:15.484467Z"
    },
    "papermill": {
     "duration": 1.153827,
     "end_time": "2024-10-21T13:48:15.488377",
     "exception": false,
     "start_time": "2024-10-21T13:48:14.334550",
     "status": "completed"
    },
    "tags": []
   },
   "outputs": [
    {
     "data": {
      "text/html": [
       "<div>\n",
       "<style scoped>\n",
       "    .dataframe tbody tr th:only-of-type {\n",
       "        vertical-align: middle;\n",
       "    }\n",
       "\n",
       "    .dataframe tbody tr th {\n",
       "        vertical-align: top;\n",
       "    }\n",
       "\n",
       "    .dataframe thead th {\n",
       "        text-align: right;\n",
       "    }\n",
       "</style>\n",
       "<table border=\"1\" class=\"dataframe\">\n",
       "  <thead>\n",
       "    <tr style=\"text-align: right;\">\n",
       "      <th></th>\n",
       "      <th>BillNo</th>\n",
       "      <th>Itemname</th>\n",
       "      <th>Quantity</th>\n",
       "      <th>Date</th>\n",
       "      <th>Price</th>\n",
       "      <th>CustomerID</th>\n",
       "      <th>Country</th>\n",
       "    </tr>\n",
       "  </thead>\n",
       "  <tbody>\n",
       "    <tr>\n",
       "      <th>0</th>\n",
       "      <td>536365</td>\n",
       "      <td>WHITE HANGING HEART T-LIGHT HOLDER</td>\n",
       "      <td>6</td>\n",
       "      <td>01.12.2010 08:26</td>\n",
       "      <td>2,55</td>\n",
       "      <td>17850.0</td>\n",
       "      <td>United Kingdom</td>\n",
       "    </tr>\n",
       "    <tr>\n",
       "      <th>1</th>\n",
       "      <td>536365</td>\n",
       "      <td>WHITE METAL LANTERN</td>\n",
       "      <td>6</td>\n",
       "      <td>01.12.2010 08:26</td>\n",
       "      <td>3,39</td>\n",
       "      <td>17850.0</td>\n",
       "      <td>United Kingdom</td>\n",
       "    </tr>\n",
       "    <tr>\n",
       "      <th>2</th>\n",
       "      <td>536365</td>\n",
       "      <td>CREAM CUPID HEARTS COAT HANGER</td>\n",
       "      <td>8</td>\n",
       "      <td>01.12.2010 08:26</td>\n",
       "      <td>2,75</td>\n",
       "      <td>17850.0</td>\n",
       "      <td>United Kingdom</td>\n",
       "    </tr>\n",
       "    <tr>\n",
       "      <th>3</th>\n",
       "      <td>536365</td>\n",
       "      <td>KNITTED UNION FLAG HOT WATER BOTTLE</td>\n",
       "      <td>6</td>\n",
       "      <td>01.12.2010 08:26</td>\n",
       "      <td>3,39</td>\n",
       "      <td>17850.0</td>\n",
       "      <td>United Kingdom</td>\n",
       "    </tr>\n",
       "    <tr>\n",
       "      <th>4</th>\n",
       "      <td>536365</td>\n",
       "      <td>RED WOOLLY HOTTIE WHITE HEART.</td>\n",
       "      <td>6</td>\n",
       "      <td>01.12.2010 08:26</td>\n",
       "      <td>3,39</td>\n",
       "      <td>17850.0</td>\n",
       "      <td>United Kingdom</td>\n",
       "    </tr>\n",
       "  </tbody>\n",
       "</table>\n",
       "</div>"
      ],
      "text/plain": [
       "   BillNo                             Itemname  Quantity              Date  \\\n",
       "0  536365   WHITE HANGING HEART T-LIGHT HOLDER         6  01.12.2010 08:26   \n",
       "1  536365                  WHITE METAL LANTERN         6  01.12.2010 08:26   \n",
       "2  536365       CREAM CUPID HEARTS COAT HANGER         8  01.12.2010 08:26   \n",
       "3  536365  KNITTED UNION FLAG HOT WATER BOTTLE         6  01.12.2010 08:26   \n",
       "4  536365       RED WOOLLY HOTTIE WHITE HEART.         6  01.12.2010 08:26   \n",
       "\n",
       "  Price  CustomerID         Country  \n",
       "0  2,55     17850.0  United Kingdom  \n",
       "1  3,39     17850.0  United Kingdom  \n",
       "2  2,75     17850.0  United Kingdom  \n",
       "3  3,39     17850.0  United Kingdom  \n",
       "4  3,39     17850.0  United Kingdom  "
      ]
     },
     "execution_count": 4,
     "metadata": {},
     "output_type": "execute_result"
    }
   ],
   "source": [
    "df = pd.read_csv(\"/kaggle/input/market-basket-analysis/Assignment-1_Data.csv\",sep=\";\")\n",
    "df.head()"
   ]
  },
  {
   "cell_type": "code",
   "execution_count": 5,
   "id": "24cdd1c5",
   "metadata": {
    "execution": {
     "iopub.execute_input": "2024-10-21T13:48:15.504653Z",
     "iopub.status.busy": "2024-10-21T13:48:15.503501Z",
     "iopub.status.idle": "2024-10-21T13:48:15.649144Z",
     "shell.execute_reply": "2024-10-21T13:48:15.648037Z"
    },
    "papermill": {
     "duration": 0.156203,
     "end_time": "2024-10-21T13:48:15.651555",
     "exception": false,
     "start_time": "2024-10-21T13:48:15.495352",
     "status": "completed"
    },
    "tags": []
   },
   "outputs": [
    {
     "name": "stdout",
     "output_type": "stream",
     "text": [
      "(522064, 7)\n",
      "<class 'pandas.core.frame.DataFrame'>\n",
      "RangeIndex: 522064 entries, 0 to 522063\n",
      "Data columns (total 7 columns):\n",
      " #   Column      Non-Null Count   Dtype  \n",
      "---  ------      --------------   -----  \n",
      " 0   BillNo      522064 non-null  object \n",
      " 1   Itemname    520609 non-null  object \n",
      " 2   Quantity    522064 non-null  int64  \n",
      " 3   Date        522064 non-null  object \n",
      " 4   Price       522064 non-null  object \n",
      " 5   CustomerID  388023 non-null  float64\n",
      " 6   Country     522064 non-null  object \n",
      "dtypes: float64(1), int64(1), object(5)\n",
      "memory usage: 27.9+ MB\n",
      "None\n"
     ]
    }
   ],
   "source": [
    "#Get Summary\n",
    "print(df.shape)\n",
    "print(df.info())"
   ]
  },
  {
   "cell_type": "code",
   "execution_count": 6,
   "id": "70011b94",
   "metadata": {
    "execution": {
     "iopub.execute_input": "2024-10-21T13:48:15.668080Z",
     "iopub.status.busy": "2024-10-21T13:48:15.667647Z",
     "iopub.status.idle": "2024-10-21T13:48:15.835115Z",
     "shell.execute_reply": "2024-10-21T13:48:15.833956Z"
    },
    "papermill": {
     "duration": 0.17834,
     "end_time": "2024-10-21T13:48:15.837835",
     "exception": false,
     "start_time": "2024-10-21T13:48:15.659495",
     "status": "completed"
    },
    "tags": []
   },
   "outputs": [],
   "source": [
    "df[\"Date\"] = pd.to_datetime(df[\"Date\"], format='%d.%m.%Y %H:%M')\n",
    "\n",
    "df[\"Year/Month\"] = df[\"Date\"].dt.to_period(\"M\")"
   ]
  },
  {
   "cell_type": "code",
   "execution_count": 7,
   "id": "ca04a3ed",
   "metadata": {
    "execution": {
     "iopub.execute_input": "2024-10-21T13:48:15.853342Z",
     "iopub.status.busy": "2024-10-21T13:48:15.852925Z",
     "iopub.status.idle": "2024-10-21T13:48:16.106755Z",
     "shell.execute_reply": "2024-10-21T13:48:16.105564Z"
    },
    "papermill": {
     "duration": 0.264408,
     "end_time": "2024-10-21T13:48:16.109250",
     "exception": false,
     "start_time": "2024-10-21T13:48:15.844842",
     "status": "completed"
    },
    "tags": []
   },
   "outputs": [],
   "source": [
    "# We notice that 'Price' column has commas in the numeric values, let's replace them and convert it to float\n",
    "df[\"Price\"] = df[\"Price\"].str.replace(\",\",\".\").astype(float)"
   ]
  },
  {
   "cell_type": "code",
   "execution_count": 8,
   "id": "64d374b1",
   "metadata": {
    "execution": {
     "iopub.execute_input": "2024-10-21T13:48:16.125528Z",
     "iopub.status.busy": "2024-10-21T13:48:16.124634Z",
     "iopub.status.idle": "2024-10-21T13:48:16.207582Z",
     "shell.execute_reply": "2024-10-21T13:48:16.205914Z"
    },
    "papermill": {
     "duration": 0.094032,
     "end_time": "2024-10-21T13:48:16.210441",
     "exception": false,
     "start_time": "2024-10-21T13:48:16.116409",
     "status": "completed"
    },
    "tags": []
   },
   "outputs": [
    {
     "name": "stdout",
     "output_type": "stream",
     "text": [
      "BillNo             0\n",
      "Itemname        1455\n",
      "Quantity           0\n",
      "Date               0\n",
      "Price              0\n",
      "CustomerID    134041\n",
      "Country            0\n",
      "Year/Month         0\n",
      "dtype: int64\n"
     ]
    }
   ],
   "source": [
    "missing = df.isnull().sum()\n",
    "\n",
    "print(missing)"
   ]
  },
  {
   "cell_type": "code",
   "execution_count": 9,
   "id": "105815ad",
   "metadata": {
    "execution": {
     "iopub.execute_input": "2024-10-21T13:48:16.226936Z",
     "iopub.status.busy": "2024-10-21T13:48:16.225986Z",
     "iopub.status.idle": "2024-10-21T13:48:18.501291Z",
     "shell.execute_reply": "2024-10-21T13:48:18.500196Z"
    },
    "papermill": {
     "duration": 2.285989,
     "end_time": "2024-10-21T13:48:18.503627",
     "exception": false,
     "start_time": "2024-10-21T13:48:16.217638",
     "status": "completed"
    },
    "tags": []
   },
   "outputs": [
    {
     "data": {
      "text/plain": [
       "<Axes: >"
      ]
     },
     "execution_count": 9,
     "metadata": {},
     "output_type": "execute_result"
    },
    {
     "data": {
      "image/png": "[encoded data removed]",
      "text/plain": [
       "<Figure size 2500x1000 with 2 Axes>"
      ]
     },
     "metadata": {},
     "output_type": "display_data"
    }
   ],
   "source": [
    "import missingno as msno\n",
    "\n",
    "# Visualize missing values as a matrix \n",
    "msno.matrix(df) "
   ]
  },
  {
   "cell_type": "code",
   "execution_count": 10,
   "id": "0e225e42",
   "metadata": {
    "execution": {
     "iopub.execute_input": "2024-10-21T13:48:18.522863Z",
     "iopub.status.busy": "2024-10-21T13:48:18.521885Z",
     "iopub.status.idle": "2024-10-21T13:48:18.612392Z",
     "shell.execute_reply": "2024-10-21T13:48:18.611271Z"
    },
    "papermill": {
     "duration": 0.102624,
     "end_time": "2024-10-21T13:48:18.614786",
     "exception": false,
     "start_time": "2024-10-21T13:48:18.512162",
     "status": "completed"
    },
    "tags": []
   },
   "outputs": [
    {
     "data": {
      "text/html": [
       "<div>\n",
       "<style scoped>\n",
       "    .dataframe tbody tr th:only-of-type {\n",
       "        vertical-align: middle;\n",
       "    }\n",
       "\n",
       "    .dataframe tbody tr th {\n",
       "        vertical-align: top;\n",
       "    }\n",
       "\n",
       "    .dataframe thead th {\n",
       "        text-align: right;\n",
       "    }\n",
       "</style>\n",
       "<table border=\"1\" class=\"dataframe\">\n",
       "  <thead>\n",
       "    <tr style=\"text-align: right;\">\n",
       "      <th></th>\n",
       "      <th>Quantity</th>\n",
       "      <th>Date</th>\n",
       "      <th>Price</th>\n",
       "      <th>CustomerID</th>\n",
       "    </tr>\n",
       "  </thead>\n",
       "  <tbody>\n",
       "    <tr>\n",
       "      <th>count</th>\n",
       "      <td>522064.000000</td>\n",
       "      <td>522064</td>\n",
       "      <td>522064.000000</td>\n",
       "      <td>388023.000000</td>\n",
       "    </tr>\n",
       "    <tr>\n",
       "      <th>mean</th>\n",
       "      <td>10.090435</td>\n",
       "      <td>2011-07-04 12:51:20.777107456</td>\n",
       "      <td>3.826801</td>\n",
       "      <td>15316.931710</td>\n",
       "    </tr>\n",
       "    <tr>\n",
       "      <th>min</th>\n",
       "      <td>-9600.000000</td>\n",
       "      <td>2010-12-01 08:26:00</td>\n",
       "      <td>-11062.060000</td>\n",
       "      <td>12346.000000</td>\n",
       "    </tr>\n",
       "    <tr>\n",
       "      <th>25%</th>\n",
       "      <td>1.000000</td>\n",
       "      <td>2011-03-28 10:15:00</td>\n",
       "      <td>1.250000</td>\n",
       "      <td>13950.000000</td>\n",
       "    </tr>\n",
       "    <tr>\n",
       "      <th>50%</th>\n",
       "      <td>3.000000</td>\n",
       "      <td>2011-07-20 08:59:00</td>\n",
       "      <td>2.080000</td>\n",
       "      <td>15265.000000</td>\n",
       "    </tr>\n",
       "    <tr>\n",
       "      <th>75%</th>\n",
       "      <td>10.000000</td>\n",
       "      <td>2011-10-19 14:12:00</td>\n",
       "      <td>4.130000</td>\n",
       "      <td>16837.000000</td>\n",
       "    </tr>\n",
       "    <tr>\n",
       "      <th>max</th>\n",
       "      <td>80995.000000</td>\n",
       "      <td>2011-12-09 12:50:00</td>\n",
       "      <td>13541.330000</td>\n",
       "      <td>18287.000000</td>\n",
       "    </tr>\n",
       "    <tr>\n",
       "      <th>std</th>\n",
       "      <td>161.110525</td>\n",
       "      <td>NaN</td>\n",
       "      <td>41.900599</td>\n",
       "      <td>1721.846964</td>\n",
       "    </tr>\n",
       "  </tbody>\n",
       "</table>\n",
       "</div>"
      ],
      "text/plain": [
       "            Quantity                           Date          Price  \\\n",
       "count  522064.000000                         522064  522064.000000   \n",
       "mean       10.090435  2011-07-04 12:51:20.777107456       3.826801   \n",
       "min     -9600.000000            2010-12-01 08:26:00  -11062.060000   \n",
       "25%         1.000000            2011-03-28 10:15:00       1.250000   \n",
       "50%         3.000000            2011-07-20 08:59:00       2.080000   \n",
       "75%        10.000000            2011-10-19 14:12:00       4.130000   \n",
       "max     80995.000000            2011-12-09 12:50:00   13541.330000   \n",
       "std       161.110525                            NaN      41.900599   \n",
       "\n",
       "          CustomerID  \n",
       "count  388023.000000  \n",
       "mean    15316.931710  \n",
       "min     12346.000000  \n",
       "25%     13950.000000  \n",
       "50%     15265.000000  \n",
       "75%     16837.000000  \n",
       "max     18287.000000  \n",
       "std      1721.846964  "
      ]
     },
     "execution_count": 10,
     "metadata": {},
     "output_type": "execute_result"
    }
   ],
   "source": [
    "#Statistics\n",
    "df.describe()"
   ]
  },
  {
   "cell_type": "code",
   "execution_count": 11,
   "id": "f09e1abd",
   "metadata": {
    "execution": {
     "iopub.execute_input": "2024-10-21T13:48:18.633547Z",
     "iopub.status.busy": "2024-10-21T13:48:18.632944Z",
     "iopub.status.idle": "2024-10-21T13:48:18.679061Z",
     "shell.execute_reply": "2024-10-21T13:48:18.677632Z"
    },
    "papermill": {
     "duration": 0.058495,
     "end_time": "2024-10-21T13:48:18.681851",
     "exception": false,
     "start_time": "2024-10-21T13:48:18.623356",
     "status": "completed"
    },
    "tags": []
   },
   "outputs": [],
   "source": [
    "df = df[(df[\"Quantity\"] > 0) & (df[\"Price\"] > 0)]\n"
   ]
  },
  {
   "cell_type": "code",
   "execution_count": 12,
   "id": "4dae6b1c",
   "metadata": {
    "execution": {
     "iopub.execute_input": "2024-10-21T13:48:18.701650Z",
     "iopub.status.busy": "2024-10-21T13:48:18.701203Z",
     "iopub.status.idle": "2024-10-21T13:48:18.809677Z",
     "shell.execute_reply": "2024-10-21T13:48:18.808579Z"
    },
    "papermill": {
     "duration": 0.121815,
     "end_time": "2024-10-21T13:48:18.812425",
     "exception": false,
     "start_time": "2024-10-21T13:48:18.690610",
     "status": "completed"
    },
    "tags": []
   },
   "outputs": [],
   "source": [
    "#drop rows without item\n",
    "df = df[df[\"Itemname\"].notnull()]"
   ]
  },
  {
   "cell_type": "code",
   "execution_count": 13,
   "id": "3a1d3b7f",
   "metadata": {
    "execution": {
     "iopub.execute_input": "2024-10-21T13:48:18.832419Z",
     "iopub.status.busy": "2024-10-21T13:48:18.831474Z",
     "iopub.status.idle": "2024-10-21T13:48:19.055027Z",
     "shell.execute_reply": "2024-10-21T13:48:19.053712Z"
    },
    "papermill": {
     "duration": 0.236165,
     "end_time": "2024-10-21T13:48:19.057387",
     "exception": false,
     "start_time": "2024-10-21T13:48:18.821222",
     "status": "completed"
    },
    "tags": []
   },
   "outputs": [
    {
     "data": {
      "text/html": [
       "<div>\n",
       "<style scoped>\n",
       "    .dataframe tbody tr th:only-of-type {\n",
       "        vertical-align: middle;\n",
       "    }\n",
       "\n",
       "    .dataframe tbody tr th {\n",
       "        vertical-align: top;\n",
       "    }\n",
       "\n",
       "    .dataframe thead th {\n",
       "        text-align: right;\n",
       "    }\n",
       "</style>\n",
       "<table border=\"1\" class=\"dataframe\">\n",
       "  <thead>\n",
       "    <tr style=\"text-align: right;\">\n",
       "      <th></th>\n",
       "      <th>BillNo</th>\n",
       "      <th>Itemname</th>\n",
       "      <th>Quantity</th>\n",
       "      <th>Date</th>\n",
       "      <th>Price</th>\n",
       "      <th>CustomerID</th>\n",
       "      <th>Country</th>\n",
       "      <th>Year/Month</th>\n",
       "      <th>TotalPrice</th>\n",
       "    </tr>\n",
       "  </thead>\n",
       "  <tbody>\n",
       "    <tr>\n",
       "      <th>0</th>\n",
       "      <td>536365</td>\n",
       "      <td>WHITE HANGING HEART T-LIGHT HOLDER</td>\n",
       "      <td>6</td>\n",
       "      <td>2010-12-01 08:26:00</td>\n",
       "      <td>2.55</td>\n",
       "      <td>17850.0</td>\n",
       "      <td>United Kingdom</td>\n",
       "      <td>2010-12</td>\n",
       "      <td>15.30</td>\n",
       "    </tr>\n",
       "    <tr>\n",
       "      <th>1</th>\n",
       "      <td>536365</td>\n",
       "      <td>WHITE METAL LANTERN</td>\n",
       "      <td>6</td>\n",
       "      <td>2010-12-01 08:26:00</td>\n",
       "      <td>3.39</td>\n",
       "      <td>17850.0</td>\n",
       "      <td>United Kingdom</td>\n",
       "      <td>2010-12</td>\n",
       "      <td>20.34</td>\n",
       "    </tr>\n",
       "    <tr>\n",
       "      <th>2</th>\n",
       "      <td>536365</td>\n",
       "      <td>CREAM CUPID HEARTS COAT HANGER</td>\n",
       "      <td>8</td>\n",
       "      <td>2010-12-01 08:26:00</td>\n",
       "      <td>2.75</td>\n",
       "      <td>17850.0</td>\n",
       "      <td>United Kingdom</td>\n",
       "      <td>2010-12</td>\n",
       "      <td>22.00</td>\n",
       "    </tr>\n",
       "    <tr>\n",
       "      <th>3</th>\n",
       "      <td>536365</td>\n",
       "      <td>KNITTED UNION FLAG HOT WATER BOTTLE</td>\n",
       "      <td>6</td>\n",
       "      <td>2010-12-01 08:26:00</td>\n",
       "      <td>3.39</td>\n",
       "      <td>17850.0</td>\n",
       "      <td>United Kingdom</td>\n",
       "      <td>2010-12</td>\n",
       "      <td>20.34</td>\n",
       "    </tr>\n",
       "    <tr>\n",
       "      <th>4</th>\n",
       "      <td>536365</td>\n",
       "      <td>RED WOOLLY HOTTIE WHITE HEART.</td>\n",
       "      <td>6</td>\n",
       "      <td>2010-12-01 08:26:00</td>\n",
       "      <td>3.39</td>\n",
       "      <td>17850.0</td>\n",
       "      <td>United Kingdom</td>\n",
       "      <td>2010-12</td>\n",
       "      <td>20.34</td>\n",
       "    </tr>\n",
       "  </tbody>\n",
       "</table>\n",
       "</div>"
      ],
      "text/plain": [
       "   BillNo                             Itemname  Quantity                Date  \\\n",
       "0  536365   WHITE HANGING HEART T-LIGHT HOLDER         6 2010-12-01 08:26:00   \n",
       "1  536365                  WHITE METAL LANTERN         6 2010-12-01 08:26:00   \n",
       "2  536365       CREAM CUPID HEARTS COAT HANGER         8 2010-12-01 08:26:00   \n",
       "3  536365  KNITTED UNION FLAG HOT WATER BOTTLE         6 2010-12-01 08:26:00   \n",
       "4  536365       RED WOOLLY HOTTIE WHITE HEART.         6 2010-12-01 08:26:00   \n",
       "\n",
       "   Price CustomerID         Country Year/Month  TotalPrice  \n",
       "0   2.55    17850.0  United Kingdom    2010-12       15.30  \n",
       "1   3.39    17850.0  United Kingdom    2010-12       20.34  \n",
       "2   2.75    17850.0  United Kingdom    2010-12       22.00  \n",
       "3   3.39    17850.0  United Kingdom    2010-12       20.34  \n",
       "4   3.39    17850.0  United Kingdom    2010-12       20.34  "
      ]
     },
     "execution_count": 13,
     "metadata": {},
     "output_type": "execute_result"
    }
   ],
   "source": [
    "# Filling missing customer IDs\n",
    "df = df.fillna('#NV')\n",
    "df[\"TotalPrice\"] = df[\"Quantity\"] * df[\"Price\"]\n",
    "df.head()"
   ]
  },
  {
   "cell_type": "code",
   "execution_count": 14,
   "id": "2bfe8837",
   "metadata": {
    "execution": {
     "iopub.execute_input": "2024-10-21T13:48:19.077573Z",
     "iopub.status.busy": "2024-10-21T13:48:19.076767Z",
     "iopub.status.idle": "2024-10-21T13:48:19.180084Z",
     "shell.execute_reply": "2024-10-21T13:48:19.178929Z"
    },
    "papermill": {
     "duration": 0.116374,
     "end_time": "2024-10-21T13:48:19.182544",
     "exception": false,
     "start_time": "2024-10-21T13:48:19.066170",
     "status": "completed"
    },
    "tags": []
   },
   "outputs": [
    {
     "name": "stdout",
     "output_type": "stream",
     "text": [
      "<class 'pandas.core.frame.DataFrame'>\n",
      "Index: 519551 entries, 0 to 522063\n",
      "Data columns (total 9 columns):\n",
      " #   Column      Non-Null Count   Dtype         \n",
      "---  ------      --------------   -----         \n",
      " 0   BillNo      519551 non-null  object        \n",
      " 1   Itemname    519551 non-null  object        \n",
      " 2   Quantity    519551 non-null  int64         \n",
      " 3   Date        519551 non-null  datetime64[ns]\n",
      " 4   Price       519551 non-null  float64       \n",
      " 5   CustomerID  519551 non-null  object        \n",
      " 6   Country     519551 non-null  object        \n",
      " 7   Year/Month  519551 non-null  period[M]     \n",
      " 8   TotalPrice  519551 non-null  float64       \n",
      "dtypes: datetime64[ns](1), float64(2), int64(1), object(4), period[M](1)\n",
      "memory usage: 39.6+ MB\n"
     ]
    }
   ],
   "source": [
    "df.info()"
   ]
  },
  {
   "cell_type": "code",
   "execution_count": 15,
   "id": "3349a49a",
   "metadata": {
    "execution": {
     "iopub.execute_input": "2024-10-21T13:48:19.201724Z",
     "iopub.status.busy": "2024-10-21T13:48:19.201309Z",
     "iopub.status.idle": "2024-10-21T13:48:19.552658Z",
     "shell.execute_reply": "2024-10-21T13:48:19.551494Z"
    },
    "papermill": {
     "duration": 0.363762,
     "end_time": "2024-10-21T13:48:19.555058",
     "exception": false,
     "start_time": "2024-10-21T13:48:19.191296",
     "status": "completed"
    },
    "tags": []
   },
   "outputs": [
    {
     "data": {
      "image/png": "[encoded data removed]",
      "text/plain": [
       "<Figure size 1500x600 with 1 Axes>"
      ]
     },
     "metadata": {},
     "output_type": "display_data"
    }
   ],
   "source": [
    "import matplotlib.ticker as ticker\n",
    "# Grouping the data by month and year, and calculating the total sum of sales\n",
    "monthly_sales = df.groupby('Year/Month')['TotalPrice'].sum()\n",
    "\n",
    "plt.figure(figsize=(15,6))\n",
    "monthly_sales.plot(kind='line', marker='o', color='b')\n",
    "plt.title('Total Sales per Month')\n",
    "plt.xlabel('Month')\n",
    "plt.ylabel('Total Sales')\n",
    "\n",
    "formatter = ticker.FormatStrFormatter('€%.2f')\n",
    "plt.gca().yaxis.set_major_formatter(formatter)  \n",
    "\n",
    "plt.grid(True)\n",
    "plt.show()"
   ]
  },
  {
   "cell_type": "code",
   "execution_count": 16,
   "id": "e223ead3",
   "metadata": {
    "execution": {
     "iopub.execute_input": "2024-10-21T13:48:19.576330Z",
     "iopub.status.busy": "2024-10-21T13:48:19.575638Z",
     "iopub.status.idle": "2024-10-21T13:48:19.971320Z",
     "shell.execute_reply": "2024-10-21T13:48:19.970080Z"
    },
    "papermill": {
     "duration": 0.409383,
     "end_time": "2024-10-21T13:48:19.974150",
     "exception": false,
     "start_time": "2024-10-21T13:48:19.564767",
     "status": "completed"
    },
    "tags": []
   },
   "outputs": [
    {
     "data": {
      "image/png": "[encoded data removed]",
      "text/plain": [
       "<Figure size 1500x600 with 1 Axes>"
      ]
     },
     "metadata": {},
     "output_type": "display_data"
    }
   ],
   "source": [
    "monthly_item = df.groupby(\"Year/Month\")[\"Itemname\"].nunique()\n",
    "\n",
    "plt.figure(figsize=(15,6))\n",
    "monthly_item.plot(kind=\"line\",marker=\"o\",color=\"b\")\n",
    "plt.title(\"Sum of Unique Items per Month\")\n",
    "plt.xlabel(\"Month\")\n",
    "plt.ylabel(\"Sum of Items\")\n",
    "plt.grid(True)\n",
    "plt.show()"
   ]
  },
  {
   "cell_type": "code",
   "execution_count": 17,
   "id": "55398304",
   "metadata": {
    "execution": {
     "iopub.execute_input": "2024-10-21T13:48:19.997517Z",
     "iopub.status.busy": "2024-10-21T13:48:19.996551Z",
     "iopub.status.idle": "2024-10-21T13:48:39.298638Z",
     "shell.execute_reply": "2024-10-21T13:48:39.297331Z"
    },
    "papermill": {
     "duration": 19.316576,
     "end_time": "2024-10-21T13:48:39.301371",
     "exception": false,
     "start_time": "2024-10-21T13:48:19.984795",
     "status": "completed"
    },
    "tags": []
   },
   "outputs": [
    {
     "data": {
      "text/html": [
       "<div>\n",
       "<style scoped>\n",
       "    .dataframe tbody tr th:only-of-type {\n",
       "        vertical-align: middle;\n",
       "    }\n",
       "\n",
       "    .dataframe tbody tr th {\n",
       "        vertical-align: top;\n",
       "    }\n",
       "\n",
       "    .dataframe thead th {\n",
       "        text-align: right;\n",
       "    }\n",
       "</style>\n",
       "<table border=\"1\" class=\"dataframe\">\n",
       "  <thead>\n",
       "    <tr style=\"text-align: right;\">\n",
       "      <th></th>\n",
       "      <th>*Boombox Ipod Classic</th>\n",
       "      <th>*USB Office Mirror Ball</th>\n",
       "      <th>10 COLOUR SPACEBOY PEN</th>\n",
       "      <th>12 COLOURED PARTY BALLOONS</th>\n",
       "      <th>12 DAISY PEGS IN WOOD BOX</th>\n",
       "      <th>12 EGG HOUSE PAINTED WOOD</th>\n",
       "      <th>12 HANGING EGGS HAND PAINTED</th>\n",
       "      <th>12 IVORY ROSE PEG PLACE SETTINGS</th>\n",
       "      <th>12 MESSAGE CARDS WITH ENVELOPES</th>\n",
       "      <th>12 PENCIL SMALL TUBE WOODLAND</th>\n",
       "      <th>...</th>\n",
       "      <th>ZINC STAR T-LIGHT HOLDER</th>\n",
       "      <th>ZINC SWEETHEART SOAP DISH</th>\n",
       "      <th>ZINC SWEETHEART WIRE LETTER RACK</th>\n",
       "      <th>ZINC T-LIGHT HOLDER STAR LARGE</th>\n",
       "      <th>ZINC T-LIGHT HOLDER STARS LARGE</th>\n",
       "      <th>ZINC T-LIGHT HOLDER STARS SMALL</th>\n",
       "      <th>ZINC TOP  2 DOOR WOODEN SHELF</th>\n",
       "      <th>ZINC WILLIE WINKIE  CANDLE STICK</th>\n",
       "      <th>ZINC WIRE KITCHEN ORGANISER</th>\n",
       "      <th>ZINC WIRE SWEETHEART LETTER TRAY</th>\n",
       "    </tr>\n",
       "    <tr>\n",
       "      <th>BillNo</th>\n",
       "      <th></th>\n",
       "      <th></th>\n",
       "      <th></th>\n",
       "      <th></th>\n",
       "      <th></th>\n",
       "      <th></th>\n",
       "      <th></th>\n",
       "      <th></th>\n",
       "      <th></th>\n",
       "      <th></th>\n",
       "      <th></th>\n",
       "      <th></th>\n",
       "      <th></th>\n",
       "      <th></th>\n",
       "      <th></th>\n",
       "      <th></th>\n",
       "      <th></th>\n",
       "      <th></th>\n",
       "      <th></th>\n",
       "      <th></th>\n",
       "      <th></th>\n",
       "    </tr>\n",
       "  </thead>\n",
       "  <tbody>\n",
       "    <tr>\n",
       "      <th>536365</th>\n",
       "      <td>0</td>\n",
       "      <td>0</td>\n",
       "      <td>0</td>\n",
       "      <td>0</td>\n",
       "      <td>0</td>\n",
       "      <td>0</td>\n",
       "      <td>0</td>\n",
       "      <td>0</td>\n",
       "      <td>0</td>\n",
       "      <td>0</td>\n",
       "      <td>...</td>\n",
       "      <td>0</td>\n",
       "      <td>0</td>\n",
       "      <td>0</td>\n",
       "      <td>0</td>\n",
       "      <td>0</td>\n",
       "      <td>0</td>\n",
       "      <td>0</td>\n",
       "      <td>0</td>\n",
       "      <td>0</td>\n",
       "      <td>0</td>\n",
       "    </tr>\n",
       "    <tr>\n",
       "      <th>536366</th>\n",
       "      <td>0</td>\n",
       "      <td>0</td>\n",
       "      <td>0</td>\n",
       "      <td>0</td>\n",
       "      <td>0</td>\n",
       "      <td>0</td>\n",
       "      <td>0</td>\n",
       "      <td>0</td>\n",
       "      <td>0</td>\n",
       "      <td>0</td>\n",
       "      <td>...</td>\n",
       "      <td>0</td>\n",
       "      <td>0</td>\n",
       "      <td>0</td>\n",
       "      <td>0</td>\n",
       "      <td>0</td>\n",
       "      <td>0</td>\n",
       "      <td>0</td>\n",
       "      <td>0</td>\n",
       "      <td>0</td>\n",
       "      <td>0</td>\n",
       "    </tr>\n",
       "    <tr>\n",
       "      <th>536367</th>\n",
       "      <td>0</td>\n",
       "      <td>0</td>\n",
       "      <td>0</td>\n",
       "      <td>0</td>\n",
       "      <td>0</td>\n",
       "      <td>0</td>\n",
       "      <td>0</td>\n",
       "      <td>0</td>\n",
       "      <td>0</td>\n",
       "      <td>0</td>\n",
       "      <td>...</td>\n",
       "      <td>0</td>\n",
       "      <td>0</td>\n",
       "      <td>0</td>\n",
       "      <td>0</td>\n",
       "      <td>0</td>\n",
       "      <td>0</td>\n",
       "      <td>0</td>\n",
       "      <td>0</td>\n",
       "      <td>0</td>\n",
       "      <td>0</td>\n",
       "    </tr>\n",
       "    <tr>\n",
       "      <th>536368</th>\n",
       "      <td>0</td>\n",
       "      <td>0</td>\n",
       "      <td>0</td>\n",
       "      <td>0</td>\n",
       "      <td>0</td>\n",
       "      <td>0</td>\n",
       "      <td>0</td>\n",
       "      <td>0</td>\n",
       "      <td>0</td>\n",
       "      <td>0</td>\n",
       "      <td>...</td>\n",
       "      <td>0</td>\n",
       "      <td>0</td>\n",
       "      <td>0</td>\n",
       "      <td>0</td>\n",
       "      <td>0</td>\n",
       "      <td>0</td>\n",
       "      <td>0</td>\n",
       "      <td>0</td>\n",
       "      <td>0</td>\n",
       "      <td>0</td>\n",
       "    </tr>\n",
       "    <tr>\n",
       "      <th>536369</th>\n",
       "      <td>0</td>\n",
       "      <td>0</td>\n",
       "      <td>0</td>\n",
       "      <td>0</td>\n",
       "      <td>0</td>\n",
       "      <td>0</td>\n",
       "      <td>0</td>\n",
       "      <td>0</td>\n",
       "      <td>0</td>\n",
       "      <td>0</td>\n",
       "      <td>...</td>\n",
       "      <td>0</td>\n",
       "      <td>0</td>\n",
       "      <td>0</td>\n",
       "      <td>0</td>\n",
       "      <td>0</td>\n",
       "      <td>0</td>\n",
       "      <td>0</td>\n",
       "      <td>0</td>\n",
       "      <td>0</td>\n",
       "      <td>0</td>\n",
       "    </tr>\n",
       "  </tbody>\n",
       "</table>\n",
       "<p>5 rows × 4006 columns</p>\n",
       "</div>"
      ],
      "text/plain": [
       "        *Boombox Ipod Classic  *USB Office Mirror Ball  \\\n",
       "BillNo                                                   \n",
       "536365                      0                        0   \n",
       "536366                      0                        0   \n",
       "536367                      0                        0   \n",
       "536368                      0                        0   \n",
       "536369                      0                        0   \n",
       "\n",
       "        10 COLOUR SPACEBOY PEN  12 COLOURED PARTY BALLOONS  \\\n",
       "BillNo                                                       \n",
       "536365                       0                           0   \n",
       "536366                       0                           0   \n",
       "536367                       0                           0   \n",
       "536368                       0                           0   \n",
       "536369                       0                           0   \n",
       "\n",
       "        12 DAISY PEGS IN WOOD BOX  12 EGG HOUSE PAINTED WOOD  \\\n",
       "BillNo                                                         \n",
       "536365                          0                          0   \n",
       "536366                          0                          0   \n",
       "536367                          0                          0   \n",
       "536368                          0                          0   \n",
       "536369                          0                          0   \n",
       "\n",
       "        12 HANGING EGGS HAND PAINTED  12 IVORY ROSE PEG PLACE SETTINGS  \\\n",
       "BillNo                                                                   \n",
       "536365                             0                                 0   \n",
       "536366                             0                                 0   \n",
       "536367                             0                                 0   \n",
       "536368                             0                                 0   \n",
       "536369                             0                                 0   \n",
       "\n",
       "        12 MESSAGE CARDS WITH ENVELOPES  12 PENCIL SMALL TUBE WOODLAND  ...  \\\n",
       "BillNo                                                                  ...   \n",
       "536365                                0                              0  ...   \n",
       "536366                                0                              0  ...   \n",
       "536367                                0                              0  ...   \n",
       "536368                                0                              0  ...   \n",
       "536369                                0                              0  ...   \n",
       "\n",
       "        ZINC STAR T-LIGHT HOLDER  ZINC SWEETHEART SOAP DISH  \\\n",
       "BillNo                                                        \n",
       "536365                         0                          0   \n",
       "536366                         0                          0   \n",
       "536367                         0                          0   \n",
       "536368                         0                          0   \n",
       "536369                         0                          0   \n",
       "\n",
       "        ZINC SWEETHEART WIRE LETTER RACK  ZINC T-LIGHT HOLDER STAR LARGE  \\\n",
       "BillNo                                                                     \n",
       "536365                                 0                               0   \n",
       "536366                                 0                               0   \n",
       "536367                                 0                               0   \n",
       "536368                                 0                               0   \n",
       "536369                                 0                               0   \n",
       "\n",
       "        ZINC T-LIGHT HOLDER STARS LARGE  ZINC T-LIGHT HOLDER STARS SMALL  \\\n",
       "BillNo                                                                     \n",
       "536365                                0                                0   \n",
       "536366                                0                                0   \n",
       "536367                                0                                0   \n",
       "536368                                0                                0   \n",
       "536369                                0                                0   \n",
       "\n",
       "        ZINC TOP  2 DOOR WOODEN SHELF  ZINC WILLIE WINKIE  CANDLE STICK  \\\n",
       "BillNo                                                                    \n",
       "536365                              0                                 0   \n",
       "536366                              0                                 0   \n",
       "536367                              0                                 0   \n",
       "536368                              0                                 0   \n",
       "536369                              0                                 0   \n",
       "\n",
       "        ZINC WIRE KITCHEN ORGANISER  ZINC WIRE SWEETHEART LETTER TRAY  \n",
       "BillNo                                                                 \n",
       "536365                            0                                 0  \n",
       "536366                            0                                 0  \n",
       "536367                            0                                 0  \n",
       "536368                            0                                 0  \n",
       "536369                            0                                 0  \n",
       "\n",
       "[5 rows x 4006 columns]"
      ]
     },
     "execution_count": 17,
     "metadata": {},
     "output_type": "execute_result"
    }
   ],
   "source": [
    "# Preprocessing the data\n",
    "data_processed = df[['BillNo', 'Itemname']]\n",
    "data_encoded = pd.get_dummies(data_processed, columns=['Itemname'])\n",
    "data_encoded.columns = data_encoded.columns.str.replace(\"Itemname_\", \"\")\n",
    "basket = data_encoded.groupby('BillNo').sum()\n",
    "\n",
    "basket.head()"
   ]
  },
  {
   "cell_type": "code",
   "execution_count": 18,
   "id": "43242310",
   "metadata": {
    "execution": {
     "iopub.execute_input": "2024-10-21T13:48:39.325722Z",
     "iopub.status.busy": "2024-10-21T13:48:39.325222Z",
     "iopub.status.idle": "2024-10-21T13:48:39.917868Z",
     "shell.execute_reply": "2024-10-21T13:48:39.916596Z"
    },
    "papermill": {
     "duration": 0.607959,
     "end_time": "2024-10-21T13:48:39.920642",
     "exception": false,
     "start_time": "2024-10-21T13:48:39.312683",
     "status": "completed"
    },
    "tags": []
   },
   "outputs": [],
   "source": [
    "basket[basket > 0] = 1"
   ]
  },
  {
   "cell_type": "code",
   "execution_count": 19,
   "id": "a0d8ea83",
   "metadata": {
    "execution": {
     "iopub.execute_input": "2024-10-21T13:48:39.945123Z",
     "iopub.status.busy": "2024-10-21T13:48:39.944717Z",
     "iopub.status.idle": "2024-10-21T13:48:57.899906Z",
     "shell.execute_reply": "2024-10-21T13:48:57.898646Z"
    },
    "papermill": {
     "duration": 17.97041,
     "end_time": "2024-10-21T13:48:57.902452",
     "exception": false,
     "start_time": "2024-10-21T13:48:39.932042",
     "status": "completed"
    },
    "tags": []
   },
   "outputs": [],
   "source": [
    "frequent_itemsets = apriori(basket,min_support=0.02,use_colnames=True)\n"
   ]
  },
  {
   "cell_type": "code",
   "execution_count": 20,
   "id": "69304bf1",
   "metadata": {
    "execution": {
     "iopub.execute_input": "2024-10-21T13:48:57.926643Z",
     "iopub.status.busy": "2024-10-21T13:48:57.926221Z",
     "iopub.status.idle": "2024-10-21T13:48:57.952730Z",
     "shell.execute_reply": "2024-10-21T13:48:57.951689Z"
    },
    "papermill": {
     "duration": 0.041465,
     "end_time": "2024-10-21T13:48:57.955014",
     "exception": false,
     "start_time": "2024-10-21T13:48:57.913549",
     "status": "completed"
    },
    "tags": []
   },
   "outputs": [
    {
     "name": "stdout",
     "output_type": "stream",
     "text": [
      "(4, 10)\n"
     ]
    },
    {
     "data": {
      "text/html": [
       "<div>\n",
       "<style scoped>\n",
       "    .dataframe tbody tr th:only-of-type {\n",
       "        vertical-align: middle;\n",
       "    }\n",
       "\n",
       "    .dataframe tbody tr th {\n",
       "        vertical-align: top;\n",
       "    }\n",
       "\n",
       "    .dataframe thead th {\n",
       "        text-align: right;\n",
       "    }\n",
       "</style>\n",
       "<table border=\"1\" class=\"dataframe\">\n",
       "  <thead>\n",
       "    <tr style=\"text-align: right;\">\n",
       "      <th></th>\n",
       "      <th>antecedents</th>\n",
       "      <th>consequents</th>\n",
       "      <th>antecedent support</th>\n",
       "      <th>consequent support</th>\n",
       "      <th>support</th>\n",
       "      <th>confidence</th>\n",
       "      <th>lift</th>\n",
       "      <th>leverage</th>\n",
       "      <th>conviction</th>\n",
       "      <th>zhangs_metric</th>\n",
       "    </tr>\n",
       "  </thead>\n",
       "  <tbody>\n",
       "    <tr>\n",
       "      <th>0</th>\n",
       "      <td>(PINK REGENCY TEACUP AND SAUCER)</td>\n",
       "      <td>(GREEN REGENCY TEACUP AND SAUCER)</td>\n",
       "      <td>0.038</td>\n",
       "      <td>0.050</td>\n",
       "      <td>0.031</td>\n",
       "      <td>0.822</td>\n",
       "      <td>16.521</td>\n",
       "      <td>0.029</td>\n",
       "      <td>5.332</td>\n",
       "      <td>0.976</td>\n",
       "    </tr>\n",
       "    <tr>\n",
       "      <th>1</th>\n",
       "      <td>(PINK REGENCY TEACUP AND SAUCER, GREEN REGENCY...</td>\n",
       "      <td>(ROSES REGENCY TEACUP AND SAUCER)</td>\n",
       "      <td>0.031</td>\n",
       "      <td>0.052</td>\n",
       "      <td>0.026</td>\n",
       "      <td>0.851</td>\n",
       "      <td>16.449</td>\n",
       "      <td>0.025</td>\n",
       "      <td>6.364</td>\n",
       "      <td>0.969</td>\n",
       "    </tr>\n",
       "    <tr>\n",
       "      <th>2</th>\n",
       "      <td>(PINK REGENCY TEACUP AND SAUCER, ROSES REGENCY...</td>\n",
       "      <td>(GREEN REGENCY TEACUP AND SAUCER)</td>\n",
       "      <td>0.029</td>\n",
       "      <td>0.050</td>\n",
       "      <td>0.026</td>\n",
       "      <td>0.903</td>\n",
       "      <td>18.161</td>\n",
       "      <td>0.025</td>\n",
       "      <td>9.831</td>\n",
       "      <td>0.973</td>\n",
       "    </tr>\n",
       "    <tr>\n",
       "      <th>3</th>\n",
       "      <td>(JUMBO BAG PINK POLKADOT, JUMBO STORAGE BAG SUKI)</td>\n",
       "      <td>(JUMBO BAG RED RETROSPOT)</td>\n",
       "      <td>0.026</td>\n",
       "      <td>0.105</td>\n",
       "      <td>0.021</td>\n",
       "      <td>0.802</td>\n",
       "      <td>7.608</td>\n",
       "      <td>0.018</td>\n",
       "      <td>4.508</td>\n",
       "      <td>0.892</td>\n",
       "    </tr>\n",
       "  </tbody>\n",
       "</table>\n",
       "</div>"
      ],
      "text/plain": [
       "                                         antecedents  \\\n",
       "0                   (PINK REGENCY TEACUP AND SAUCER)   \n",
       "1  (PINK REGENCY TEACUP AND SAUCER, GREEN REGENCY...   \n",
       "2  (PINK REGENCY TEACUP AND SAUCER, ROSES REGENCY...   \n",
       "3  (JUMBO BAG PINK POLKADOT, JUMBO STORAGE BAG SUKI)   \n",
       "\n",
       "                         consequents  antecedent support  consequent support  \\\n",
       "0  (GREEN REGENCY TEACUP AND SAUCER)               0.038               0.050   \n",
       "1  (ROSES REGENCY TEACUP AND SAUCER)               0.031               0.052   \n",
       "2  (GREEN REGENCY TEACUP AND SAUCER)               0.029               0.050   \n",
       "3          (JUMBO BAG RED RETROSPOT)               0.026               0.105   \n",
       "\n",
       "   support  confidence    lift  leverage  conviction  zhangs_metric  \n",
       "0    0.031       0.822  16.521     0.029       5.332          0.976  \n",
       "1    0.026       0.851  16.449     0.025       6.364          0.969  \n",
       "2    0.026       0.903  18.161     0.025       9.831          0.973  \n",
       "3    0.021       0.802   7.608     0.018       4.508          0.892  "
      ]
     },
     "execution_count": 20,
     "metadata": {},
     "output_type": "execute_result"
    }
   ],
   "source": [
    "# Confidence represents the likelihood that the consequent item (item bought after) is purchased given the antecedent item(s) (item bought before). \n",
    "# A confidence of 0.6 implies that the consequent item is purchased in 60% of transactions where the antecedent item(s) are also present, indicating a strong positive relationship.\n",
    "rules_confidenz = association_rules(frequent_itemsets, metric=\"confidence\", min_threshold=0.8)\n",
    "print(rules_confidenz.shape)\n",
    "rules_c = rules_confidenz.round(3)\n",
    "rules_c.head()"
   ]
  },
  {
   "cell_type": "code",
   "execution_count": 21,
   "id": "7d47c0be",
   "metadata": {
    "execution": {
     "iopub.execute_input": "2024-10-21T13:48:57.979595Z",
     "iopub.status.busy": "2024-10-21T13:48:57.978836Z",
     "iopub.status.idle": "2024-10-21T13:48:58.004380Z",
     "shell.execute_reply": "2024-10-21T13:48:58.003350Z"
    },
    "papermill": {
     "duration": 0.040284,
     "end_time": "2024-10-21T13:48:58.006660",
     "exception": false,
     "start_time": "2024-10-21T13:48:57.966376",
     "status": "completed"
    },
    "tags": []
   },
   "outputs": [
    {
     "name": "stdout",
     "output_type": "stream",
     "text": [
      "(174, 10)\n"
     ]
    },
    {
     "data": {
      "text/html": [
       "<div>\n",
       "<style scoped>\n",
       "    .dataframe tbody tr th:only-of-type {\n",
       "        vertical-align: middle;\n",
       "    }\n",
       "\n",
       "    .dataframe tbody tr th {\n",
       "        vertical-align: top;\n",
       "    }\n",
       "\n",
       "    .dataframe thead th {\n",
       "        text-align: right;\n",
       "    }\n",
       "</style>\n",
       "<table border=\"1\" class=\"dataframe\">\n",
       "  <thead>\n",
       "    <tr style=\"text-align: right;\">\n",
       "      <th></th>\n",
       "      <th>antecedents</th>\n",
       "      <th>consequents</th>\n",
       "      <th>antecedent support</th>\n",
       "      <th>consequent support</th>\n",
       "      <th>support</th>\n",
       "      <th>confidence</th>\n",
       "      <th>lift</th>\n",
       "      <th>leverage</th>\n",
       "      <th>conviction</th>\n",
       "      <th>zhangs_metric</th>\n",
       "    </tr>\n",
       "  </thead>\n",
       "  <tbody>\n",
       "    <tr>\n",
       "      <th>0</th>\n",
       "      <td>(60 TEATIME FAIRY CAKE CASES)</td>\n",
       "      <td>(PACK OF 72 RETROSPOT CAKE CASES)</td>\n",
       "      <td>0.041</td>\n",
       "      <td>0.065</td>\n",
       "      <td>0.022</td>\n",
       "      <td>0.545</td>\n",
       "      <td>8.337</td>\n",
       "      <td>0.020</td>\n",
       "      <td>2.055</td>\n",
       "      <td>0.917</td>\n",
       "    </tr>\n",
       "    <tr>\n",
       "      <th>1</th>\n",
       "      <td>(PACK OF 72 RETROSPOT CAKE CASES)</td>\n",
       "      <td>(60 TEATIME FAIRY CAKE CASES)</td>\n",
       "      <td>0.065</td>\n",
       "      <td>0.041</td>\n",
       "      <td>0.022</td>\n",
       "      <td>0.340</td>\n",
       "      <td>8.337</td>\n",
       "      <td>0.020</td>\n",
       "      <td>1.454</td>\n",
       "      <td>0.942</td>\n",
       "    </tr>\n",
       "    <tr>\n",
       "      <th>2</th>\n",
       "      <td>(ALARM CLOCK BAKELIKE GREEN)</td>\n",
       "      <td>(ALARM CLOCK BAKELIKE PINK)</td>\n",
       "      <td>0.049</td>\n",
       "      <td>0.039</td>\n",
       "      <td>0.021</td>\n",
       "      <td>0.425</td>\n",
       "      <td>10.954</td>\n",
       "      <td>0.019</td>\n",
       "      <td>1.672</td>\n",
       "      <td>0.956</td>\n",
       "    </tr>\n",
       "    <tr>\n",
       "      <th>3</th>\n",
       "      <td>(ALARM CLOCK BAKELIKE PINK)</td>\n",
       "      <td>(ALARM CLOCK BAKELIKE GREEN)</td>\n",
       "      <td>0.039</td>\n",
       "      <td>0.049</td>\n",
       "      <td>0.021</td>\n",
       "      <td>0.542</td>\n",
       "      <td>10.954</td>\n",
       "      <td>0.019</td>\n",
       "      <td>2.073</td>\n",
       "      <td>0.945</td>\n",
       "    </tr>\n",
       "    <tr>\n",
       "      <th>4</th>\n",
       "      <td>(ALARM CLOCK BAKELIKE GREEN)</td>\n",
       "      <td>(ALARM CLOCK BAKELIKE RED)</td>\n",
       "      <td>0.049</td>\n",
       "      <td>0.053</td>\n",
       "      <td>0.032</td>\n",
       "      <td>0.655</td>\n",
       "      <td>12.468</td>\n",
       "      <td>0.030</td>\n",
       "      <td>2.743</td>\n",
       "      <td>0.968</td>\n",
       "    </tr>\n",
       "  </tbody>\n",
       "</table>\n",
       "</div>"
      ],
      "text/plain": [
       "                         antecedents                        consequents  \\\n",
       "0      (60 TEATIME FAIRY CAKE CASES)  (PACK OF 72 RETROSPOT CAKE CASES)   \n",
       "1  (PACK OF 72 RETROSPOT CAKE CASES)      (60 TEATIME FAIRY CAKE CASES)   \n",
       "2       (ALARM CLOCK BAKELIKE GREEN)        (ALARM CLOCK BAKELIKE PINK)   \n",
       "3        (ALARM CLOCK BAKELIKE PINK)       (ALARM CLOCK BAKELIKE GREEN)   \n",
       "4       (ALARM CLOCK BAKELIKE GREEN)         (ALARM CLOCK BAKELIKE RED)   \n",
       "\n",
       "   antecedent support  consequent support  support  confidence    lift  \\\n",
       "0               0.041               0.065    0.022       0.545   8.337   \n",
       "1               0.065               0.041    0.022       0.340   8.337   \n",
       "2               0.049               0.039    0.021       0.425  10.954   \n",
       "3               0.039               0.049    0.021       0.542  10.954   \n",
       "4               0.049               0.053    0.032       0.655  12.468   \n",
       "\n",
       "   leverage  conviction  zhangs_metric  \n",
       "0     0.020       2.055          0.917  \n",
       "1     0.020       1.454          0.942  \n",
       "2     0.019       1.672          0.956  \n",
       "3     0.019       2.073          0.945  \n",
       "4     0.030       2.743          0.968  "
      ]
     },
     "execution_count": 21,
     "metadata": {},
     "output_type": "execute_result"
    }
   ],
   "source": [
    "# Lift measures how much more likely the consequent item(s) are purchased when the antecedent item(s) are present compared to when they are not. \n",
    "# A lift value of 1.0 indicates that the items in the consequent are bought together as often as would be expected by chance.\n",
    "rules_lift = association_rules(frequent_itemsets, metric=\"lift\", min_threshold= 2.5)\n",
    "print(rules_lift.shape)\n",
    "rules_l = rules_lift.round(3)\n",
    "rules_l.head()"
   ]
  },
  {
   "cell_type": "code",
   "execution_count": 22,
   "id": "d8599780",
   "metadata": {
    "execution": {
     "iopub.execute_input": "2024-10-21T13:48:58.031611Z",
     "iopub.status.busy": "2024-10-21T13:48:58.031159Z",
     "iopub.status.idle": "2024-10-21T13:48:58.059160Z",
     "shell.execute_reply": "2024-10-21T13:48:58.058070Z"
    },
    "papermill": {
     "duration": 0.043388,
     "end_time": "2024-10-21T13:48:58.061496",
     "exception": false,
     "start_time": "2024-10-21T13:48:58.018108",
     "status": "completed"
    },
    "tags": []
   },
   "outputs": [
    {
     "name": "stdout",
     "output_type": "stream",
     "text": [
      "(16, 10)\n"
     ]
    },
    {
     "data": {
      "text/html": [
       "<div>\n",
       "<style scoped>\n",
       "    .dataframe tbody tr th:only-of-type {\n",
       "        vertical-align: middle;\n",
       "    }\n",
       "\n",
       "    .dataframe tbody tr th {\n",
       "        vertical-align: top;\n",
       "    }\n",
       "\n",
       "    .dataframe thead th {\n",
       "        text-align: right;\n",
       "    }\n",
       "</style>\n",
       "<table border=\"1\" class=\"dataframe\">\n",
       "  <thead>\n",
       "    <tr style=\"text-align: right;\">\n",
       "      <th></th>\n",
       "      <th>antecedents</th>\n",
       "      <th>consequents</th>\n",
       "      <th>antecedent support</th>\n",
       "      <th>consequent support</th>\n",
       "      <th>support</th>\n",
       "      <th>confidence</th>\n",
       "      <th>lift</th>\n",
       "      <th>leverage</th>\n",
       "      <th>conviction</th>\n",
       "      <th>zhangs_metric</th>\n",
       "    </tr>\n",
       "  </thead>\n",
       "  <tbody>\n",
       "    <tr>\n",
       "      <th>0</th>\n",
       "      <td>(ALARM CLOCK BAKELIKE GREEN)</td>\n",
       "      <td>(ALARM CLOCK BAKELIKE RED)</td>\n",
       "      <td>0.049</td>\n",
       "      <td>0.053</td>\n",
       "      <td>0.032</td>\n",
       "      <td>0.655</td>\n",
       "      <td>12.468</td>\n",
       "      <td>0.030</td>\n",
       "      <td>2.743</td>\n",
       "      <td>0.968</td>\n",
       "    </tr>\n",
       "    <tr>\n",
       "      <th>1</th>\n",
       "      <td>(ALARM CLOCK BAKELIKE RED)</td>\n",
       "      <td>(ALARM CLOCK BAKELIKE GREEN)</td>\n",
       "      <td>0.053</td>\n",
       "      <td>0.049</td>\n",
       "      <td>0.032</td>\n",
       "      <td>0.616</td>\n",
       "      <td>12.468</td>\n",
       "      <td>0.030</td>\n",
       "      <td>2.478</td>\n",
       "      <td>0.971</td>\n",
       "    </tr>\n",
       "    <tr>\n",
       "      <th>2</th>\n",
       "      <td>(PINK REGENCY TEACUP AND SAUCER)</td>\n",
       "      <td>(GREEN REGENCY TEACUP AND SAUCER)</td>\n",
       "      <td>0.038</td>\n",
       "      <td>0.050</td>\n",
       "      <td>0.031</td>\n",
       "      <td>0.822</td>\n",
       "      <td>16.521</td>\n",
       "      <td>0.029</td>\n",
       "      <td>5.332</td>\n",
       "      <td>0.976</td>\n",
       "    </tr>\n",
       "    <tr>\n",
       "      <th>3</th>\n",
       "      <td>(GREEN REGENCY TEACUP AND SAUCER)</td>\n",
       "      <td>(PINK REGENCY TEACUP AND SAUCER)</td>\n",
       "      <td>0.050</td>\n",
       "      <td>0.038</td>\n",
       "      <td>0.031</td>\n",
       "      <td>0.621</td>\n",
       "      <td>16.521</td>\n",
       "      <td>0.029</td>\n",
       "      <td>2.538</td>\n",
       "      <td>0.989</td>\n",
       "    </tr>\n",
       "    <tr>\n",
       "      <th>4</th>\n",
       "      <td>(GREEN REGENCY TEACUP AND SAUCER)</td>\n",
       "      <td>(ROSES REGENCY TEACUP AND SAUCER)</td>\n",
       "      <td>0.050</td>\n",
       "      <td>0.052</td>\n",
       "      <td>0.037</td>\n",
       "      <td>0.750</td>\n",
       "      <td>14.502</td>\n",
       "      <td>0.035</td>\n",
       "      <td>3.797</td>\n",
       "      <td>0.980</td>\n",
       "    </tr>\n",
       "  </tbody>\n",
       "</table>\n",
       "</div>"
      ],
      "text/plain": [
       "                         antecedents                        consequents  \\\n",
       "0       (ALARM CLOCK BAKELIKE GREEN)         (ALARM CLOCK BAKELIKE RED)   \n",
       "1         (ALARM CLOCK BAKELIKE RED)       (ALARM CLOCK BAKELIKE GREEN)   \n",
       "2   (PINK REGENCY TEACUP AND SAUCER)  (GREEN REGENCY TEACUP AND SAUCER)   \n",
       "3  (GREEN REGENCY TEACUP AND SAUCER)   (PINK REGENCY TEACUP AND SAUCER)   \n",
       "4  (GREEN REGENCY TEACUP AND SAUCER)  (ROSES REGENCY TEACUP AND SAUCER)   \n",
       "\n",
       "   antecedent support  consequent support  support  confidence    lift  \\\n",
       "0               0.049               0.053    0.032       0.655  12.468   \n",
       "1               0.053               0.049    0.032       0.616  12.468   \n",
       "2               0.038               0.050    0.031       0.822  16.521   \n",
       "3               0.050               0.038    0.031       0.621  16.521   \n",
       "4               0.050               0.052    0.037       0.750  14.502   \n",
       "\n",
       "   leverage  conviction  zhangs_metric  \n",
       "0     0.030       2.743          0.968  \n",
       "1     0.030       2.478          0.971  \n",
       "2     0.029       5.332          0.976  \n",
       "3     0.029       2.538          0.989  \n",
       "4     0.035       3.797          0.980  "
      ]
     },
     "execution_count": 22,
     "metadata": {},
     "output_type": "execute_result"
    }
   ],
   "source": [
    "# Support quantifies the frequency with which a rule occurs in the dataset.\n",
    "# A support of 0.05 means that the rule occurs in at least 5% of transactions, signifying its significance in the dataset.\n",
    "rules_support = association_rules(frequent_itemsets, metric=\"support\", min_threshold=0.03)\n",
    "print(rules_support.shape)\n",
    "rules_s = rules_support.round(3)\n",
    "rules_s.head()"
   ]
  },
  {
   "cell_type": "code",
   "execution_count": 23,
   "id": "66486238",
   "metadata": {
    "execution": {
     "iopub.execute_input": "2024-10-21T13:48:58.087325Z",
     "iopub.status.busy": "2024-10-21T13:48:58.086917Z",
     "iopub.status.idle": "2024-10-21T13:48:58.799292Z",
     "shell.execute_reply": "2024-10-21T13:48:58.798000Z"
    },
    "papermill": {
     "duration": 0.727945,
     "end_time": "2024-10-21T13:48:58.801546",
     "exception": false,
     "start_time": "2024-10-21T13:48:58.073601",
     "status": "completed"
    },
    "tags": []
   },
   "outputs": [
    {
     "data": {
      "text/html": [
       "        <script type=\"text/javascript\">\n",
       "        window.PlotlyConfig = {MathJaxConfig: 'local'};\n",
       "        if (window.MathJax && window.MathJax.Hub && window.MathJax.Hub.Config) {window.MathJax.Hub.Config({SVG: {font: \"STIX-Web\"}});}\n",
       "        if (typeof require !== 'undefined') {\n",
       "        require.undef(\"plotly\");\n",
       "        requirejs.config({\n",
       "            paths: {\n",
       "                'plotly': ['https://cdn.plot.ly/plotly-2.32.0.min']\n",
       "            }\n",
       "        });\n",
       "        require(['plotly'], function(Plotly) {\n",
       "            window._Plotly = Plotly;\n",
       "        });\n",
       "        }\n",
       "        </script>\n",
       "        "
      ]
     },
     "metadata": {},
     "output_type": "display_data"
    },
    {
     "data": {
      "text/html": [
       "<div>                            <div id=\"8532911f-107a-4afa-aa85-b35ab27cc8e1\" class=\"plotly-graph-div\" style=\"height:900px; width:800px;\"></div>            <script type=\"text/javascript\">                require([\"plotly\"], function(Plotly) {                    window.PLOTLYENV=window.PLOTLYENV || {};                                    if (document.getElementById(\"8532911f-107a-4afa-aa85-b35ab27cc8e1\")) {                    Plotly.newPlot(                        \"8532911f-107a-4afa-aa85-b35ab27cc8e1\",                        [{\"histnorm\":\"density\",\"name\":\"Confidence\",\"nbinsx\":20,\"x\":[0.822,0.851,0.903,0.802],\"type\":\"histogram\",\"xaxis\":\"x\",\"yaxis\":\"y\"},{\"line\":{\"color\":\"red\"},\"mode\":\"lines\",\"name\":\"KDE\",\"x\":[0.822,0.851,0.903,0.802],\"y\":[0.25,0.25,0.25,0.25],\"type\":\"scatter\",\"xaxis\":\"x\",\"yaxis\":\"y\"},{\"histnorm\":\"density\",\"name\":\"Lift\",\"nbinsx\":20,\"x\":[8.337,8.337,10.954,10.954,12.468,12.468,11.393,11.393,12.376,12.376,13.452,13.452,12.611,12.611,11.003,11.003,12.864,12.864,12.248,12.248,13.997,13.997,6.52,6.52,9.29,9.29,15.594,15.594,16.521,16.521,5.079,5.079,14.502,14.502,8.76,8.76,7.282,7.282,7.195,7.195,5.951,5.951,7.617,7.617,7.558,7.558,4.408,4.408,13.885,13.885,5.326,5.326,6.419,6.419,8.076,8.076,6.469,6.469,7.048,7.048,5.69,5.69,8.152,8.152,6.409,6.409,5.932,5.932,6.172,6.172,4.646,4.646,5.924,5.924,5.503,5.503,5.576,5.576,5.809,5.809,3.529,3.529,5.288,5.288,3.922,3.922,8.711,8.711,7.405,7.405,6.243,6.243,7.104,7.104,7.741,7.741,6.367,6.367,6.862,6.862,7.38,7.38,6.81,6.81,5.987,5.987,7.908,7.908,7.988,7.988,6.111,6.111,7.201,7.201,7.493,7.493,7.563,7.563,7.015,7.015,6.739,6.739,6.991,6.991,7.143,7.143,6.12,6.12,6.53,6.53,6.581,6.581,7.173,7.173,8.093,8.093,2.969,2.969,7.583,7.583,11.501,11.501,5.023,5.023,14.964,14.964,5.912,5.912,12.834,12.834,11.601,11.601,4.964,4.964,7.186,7.186,13.378,13.378,3.301,3.301,10.022,10.022,16.449,18.161,18.739,18.739,18.161,16.449,7.608,8.353,9.23,9.23,8.353,7.608],\"type\":\"histogram\",\"xaxis\":\"x2\",\"yaxis\":\"y2\"},{\"line\":{\"color\":\"red\"},\"mode\":\"lines\",\"name\":\"KDE\",\"x\":[8.337,8.337,10.954,10.954,12.468,12.468,11.393,11.393,12.376,12.376,13.452,13.452,12.611,12.611,11.003,11.003,12.864,12.864,12.248,12.248,13.997,13.997,6.52,6.52,9.29,9.29,15.594,15.594,16.521,16.521,5.079,5.079,14.502,14.502,8.76,8.76,7.282,7.282,7.195,7.195,5.951,5.951,7.617,7.617,7.558,7.558,4.408,4.408,13.885,13.885,5.326,5.326,6.419,6.419,8.076,8.076,6.469,6.469,7.048,7.048,5.69,5.69,8.152,8.152,6.409,6.409,5.932,5.932,6.172,6.172,4.646,4.646,5.924,5.924,5.503,5.503,5.576,5.576,5.809,5.809,3.529,3.529,5.288,5.288,3.922,3.922,8.711,8.711,7.405,7.405,6.243,6.243,7.104,7.104,7.741,7.741,6.367,6.367,6.862,6.862,7.38,7.38,6.81,6.81,5.987,5.987,7.908,7.908,7.988,7.988,6.111,6.111,7.201,7.201,7.493,7.493,7.563,7.563,7.015,7.015,6.739,6.739,6.991,6.991,7.143,7.143,6.12,6.12,6.53,6.53,6.581,6.581,7.173,7.173,8.093,8.093,2.969,2.969,7.583,7.583,11.501,11.501,5.023,5.023,14.964,14.964,5.912,5.912,12.834,12.834,11.601,11.601,4.964,4.964,7.186,7.186,13.378,13.378,3.301,3.301,10.022,10.022,16.449,18.161,18.739,18.739,18.161,16.449,7.608,8.353,9.23,9.23,8.353,7.608],\"y\":[0.011494252873563218,0.011494252873563218,0.011494252873563218,0.011494252873563218,0.011494252873563218,0.011494252873563218,0.011494252873563218,0.011494252873563218,0.011494252873563218,0.011494252873563218,0.011494252873563218,0.011494252873563218,0.011494252873563218,0.011494252873563218,0.011494252873563218,0.011494252873563218,0.011494252873563218,0.011494252873563218,0.011494252873563218,0.011494252873563218,0.011494252873563218,0.011494252873563218,0.011494252873563218,0.011494252873563218,0.011494252873563218,0.011494252873563218,0.011494252873563218,0.011494252873563218,0.011494252873563218,0.011494252873563218,0.011494252873563218,0.011494252873563218,0.011494252873563218,0.011494252873563218,0.011494252873563218,0.011494252873563218,0.011494252873563218,0.011494252873563218,0.011494252873563218,0.011494252873563218,0.011494252873563218,0.011494252873563218,0.011494252873563218,0.011494252873563218,0.011494252873563218,0.011494252873563218,0.011494252873563218,0.011494252873563218,0.011494252873563218,0.011494252873563218,0.011494252873563218,0.011494252873563218,0.011494252873563218,0.011494252873563218,0.011494252873563218,0.011494252873563218,0.011494252873563218,0.011494252873563218,0.011494252873563218,0.011494252873563218,0.011494252873563218,0.011494252873563218,0.011494252873563218,0.011494252873563218,0.011494252873563218,0.011494252873563218,0.011494252873563218,0.011494252873563218,0.011494252873563218,0.011494252873563218,0.011494252873563218,0.011494252873563218,0.011494252873563218,0.011494252873563218,0.011494252873563218,0.011494252873563218,0.011494252873563218,0.011494252873563218,0.011494252873563218,0.011494252873563218,0.011494252873563218,0.011494252873563218,0.011494252873563218,0.011494252873563218,0.011494252873563218,0.011494252873563218,0.011494252873563218],\"type\":\"scatter\",\"xaxis\":\"x2\",\"yaxis\":\"y2\"},{\"histnorm\":\"density\",\"name\":\"Support\",\"nbinsx\":20,\"x\":[0.032,0.032,0.031,0.031,0.037,0.037,0.042,0.042,0.035,0.035,0.037,0.037,0.032,0.032,0.03,0.03],\"type\":\"histogram\",\"xaxis\":\"x3\",\"yaxis\":\"y3\"},{\"line\":{\"color\":\"red\"},\"mode\":\"lines\",\"name\":\"KDE\",\"x\":[0.032,0.032,0.031,0.031,0.037,0.037,0.042,0.042,0.035,0.035,0.037,0.037,0.032,0.032,0.03,0.03],\"y\":[0.125,0.125,0.25,0.125,0.25,0.125],\"type\":\"scatter\",\"xaxis\":\"x3\",\"yaxis\":\"y3\"}],                        {\"template\":{\"data\":{\"histogram2dcontour\":[{\"type\":\"histogram2dcontour\",\"colorbar\":{\"outlinewidth\":0,\"ticks\":\"\"},\"colorscale\":[[0.0,\"#0d0887\"],[0.1111111111111111,\"#46039f\"],[0.2222222222222222,\"#7201a8\"],[0.3333333333333333,\"#9c179e\"],[0.4444444444444444,\"#bd3786\"],[0.5555555555555556,\"#d8576b\"],[0.6666666666666666,\"#ed7953\"],[0.7777777777777778,\"#fb9f3a\"],[0.8888888888888888,\"#fdca26\"],[1.0,\"#f0f921\"]]}],\"choropleth\":[{\"type\":\"choropleth\",\"colorbar\":{\"outlinewidth\":0,\"ticks\":\"\"}}],\"histogram2d\":[{\"type\":\"histogram2d\",\"colorbar\":{\"outlinewidth\":0,\"ticks\":\"\"},\"colorscale\":[[0.0,\"#0d0887\"],[0.1111111111111111,\"#46039f\"],[0.2222222222222222,\"#7201a8\"],[0.3333333333333333,\"#9c179e\"],[0.4444444444444444,\"#bd3786\"],[0.5555555555555556,\"#d8576b\"],[0.6666666666666666,\"#ed7953\"],[0.7777777777777778,\"#fb9f3a\"],[0.8888888888888888,\"#fdca26\"],[1.0,\"#f0f921\"]]}],\"heatmap\":[{\"type\":\"heatmap\",\"colorbar\":{\"outlinewidth\":0,\"ticks\":\"\"},\"colorscale\":[[0.0,\"#0d0887\"],[0.1111111111111111,\"#46039f\"],[0.2222222222222222,\"#7201a8\"],[0.3333333333333333,\"#9c179e\"],[0.4444444444444444,\"#bd3786\"],[0.5555555555555556,\"#d8576b\"],[0.6666666666666666,\"#ed7953\"],[0.7777777777777778,\"#fb9f3a\"],[0.8888888888888888,\"#fdca26\"],[1.0,\"#f0f921\"]]}],\"heatmapgl\":[{\"type\":\"heatmapgl\",\"colorbar\":{\"outlinewidth\":0,\"ticks\":\"\"},\"colorscale\":[[0.0,\"#0d0887\"],[0.1111111111111111,\"#46039f\"],[0.2222222222222222,\"#7201a8\"],[0.3333333333333333,\"#9c179e\"],[0.4444444444444444,\"#bd3786\"],[0.5555555555555556,\"#d8576b\"],[0.6666666666666666,\"#ed7953\"],[0.7777777777777778,\"#fb9f3a\"],[0.8888888888888888,\"#fdca26\"],[1.0,\"#f0f921\"]]}],\"contourcarpet\":[{\"type\":\"contourcarpet\",\"colorbar\":{\"outlinewidth\":0,\"ticks\":\"\"}}],\"contour\":[{\"type\":\"contour\",\"colorbar\":{\"outlinewidth\":0,\"ticks\":\"\"},\"colorscale\":[[0.0,\"#0d0887\"],[0.1111111111111111,\"#46039f\"],[0.2222222222222222,\"#7201a8\"],[0.3333333333333333,\"#9c179e\"],[0.4444444444444444,\"#bd3786\"],[0.5555555555555556,\"#d8576b\"],[0.6666666666666666,\"#ed7953\"],[0.7777777777777778,\"#fb9f3a\"],[0.8888888888888888,\"#fdca26\"],[1.0,\"#f0f921\"]]}],\"surface\":[{\"type\":\"surface\",\"colorbar\":{\"outlinewidth\":0,\"ticks\":\"\"},\"colorscale\":[[0.0,\"#0d0887\"],[0.1111111111111111,\"#46039f\"],[0.2222222222222222,\"#7201a8\"],[0.3333333333333333,\"#9c179e\"],[0.4444444444444444,\"#bd3786\"],[0.5555555555555556,\"#d8576b\"],[0.6666666666666666,\"#ed7953\"],[0.7777777777777778,\"#fb9f3a\"],[0.8888888888888888,\"#fdca26\"],[1.0,\"#f0f921\"]]}],\"mesh3d\":[{\"type\":\"mesh3d\",\"colorbar\":{\"outlinewidth\":0,\"ticks\":\"\"}}],\"scatter\":[{\"fillpattern\":{\"fillmode\":\"overlay\",\"size\":10,\"solidity\":0.2},\"type\":\"scatter\"}],\"parcoords\":[{\"type\":\"parcoords\",\"line\":{\"colorbar\":{\"outlinewidth\":0,\"ticks\":\"\"}}}],\"scatterpolargl\":[{\"type\":\"scatterpolargl\",\"marker\":{\"colorbar\":{\"outlinewidth\":0,\"ticks\":\"\"}}}],\"bar\":[{\"error_x\":{\"color\":\"#2a3f5f\"},\"error_y\":{\"color\":\"#2a3f5f\"},\"marker\":{\"line\":{\"color\":\"#E5ECF6\",\"width\":0.5},\"pattern\":{\"fillmode\":\"overlay\",\"size\":10,\"solidity\":0.2}},\"type\":\"bar\"}],\"scattergeo\":[{\"type\":\"scattergeo\",\"marker\":{\"colorbar\":{\"outlinewidth\":0,\"ticks\":\"\"}}}],\"scatterpolar\":[{\"type\":\"scatterpolar\",\"marker\":{\"colorbar\":{\"outlinewidth\":0,\"ticks\":\"\"}}}],\"histogram\":[{\"marker\":{\"pattern\":{\"fillmode\":\"overlay\",\"size\":10,\"solidity\":0.2}},\"type\":\"histogram\"}],\"scattergl\":[{\"type\":\"scattergl\",\"marker\":{\"colorbar\":{\"outlinewidth\":0,\"ticks\":\"\"}}}],\"scatter3d\":[{\"type\":\"scatter3d\",\"line\":{\"colorbar\":{\"outlinewidth\":0,\"ticks\":\"\"}},\"marker\":{\"colorbar\":{\"outlinewidth\":0,\"ticks\":\"\"}}}],\"scattermapbox\":[{\"type\":\"scattermapbox\",\"marker\":{\"colorbar\":{\"outlinewidth\":0,\"ticks\":\"\"}}}],\"scatterternary\":[{\"type\":\"scatterternary\",\"marker\":{\"colorbar\":{\"outlinewidth\":0,\"ticks\":\"\"}}}],\"scattercarpet\":[{\"type\":\"scattercarpet\",\"marker\":{\"colorbar\":{\"outlinewidth\":0,\"ticks\":\"\"}}}],\"carpet\":[{\"aaxis\":{\"endlinecolor\":\"#2a3f5f\",\"gridcolor\":\"white\",\"linecolor\":\"white\",\"minorgridcolor\":\"white\",\"startlinecolor\":\"#2a3f5f\"},\"baxis\":{\"endlinecolor\":\"#2a3f5f\",\"gridcolor\":\"white\",\"linecolor\":\"white\",\"minorgridcolor\":\"white\",\"startlinecolor\":\"#2a3f5f\"},\"type\":\"carpet\"}],\"table\":[{\"cells\":{\"fill\":{\"color\":\"#EBF0F8\"},\"line\":{\"color\":\"white\"}},\"header\":{\"fill\":{\"color\":\"#C8D4E3\"},\"line\":{\"color\":\"white\"}},\"type\":\"table\"}],\"barpolar\":[{\"marker\":{\"line\":{\"color\":\"#E5ECF6\",\"width\":0.5},\"pattern\":{\"fillmode\":\"overlay\",\"size\":10,\"solidity\":0.2}},\"type\":\"barpolar\"}],\"pie\":[{\"automargin\":true,\"type\":\"pie\"}]},\"layout\":{\"autotypenumbers\":\"strict\",\"colorway\":[\"#636efa\",\"#EF553B\",\"#00cc96\",\"#ab63fa\",\"#FFA15A\",\"#19d3f3\",\"#FF6692\",\"#B6E880\",\"#FF97FF\",\"#FECB52\"],\"font\":{\"color\":\"#2a3f5f\"},\"hovermode\":\"closest\",\"hoverlabel\":{\"align\":\"left\"},\"paper_bgcolor\":\"white\",\"plot_bgcolor\":\"#E5ECF6\",\"polar\":{\"bgcolor\":\"#E5ECF6\",\"angularaxis\":{\"gridcolor\":\"white\",\"linecolor\":\"white\",\"ticks\":\"\"},\"radialaxis\":{\"gridcolor\":\"white\",\"linecolor\":\"white\",\"ticks\":\"\"}},\"ternary\":{\"bgcolor\":\"#E5ECF6\",\"aaxis\":{\"gridcolor\":\"white\",\"linecolor\":\"white\",\"ticks\":\"\"},\"baxis\":{\"gridcolor\":\"white\",\"linecolor\":\"white\",\"ticks\":\"\"},\"caxis\":{\"gridcolor\":\"white\",\"linecolor\":\"white\",\"ticks\":\"\"}},\"coloraxis\":{\"colorbar\":{\"outlinewidth\":0,\"ticks\":\"\"}},\"colorscale\":{\"sequential\":[[0.0,\"#0d0887\"],[0.1111111111111111,\"#46039f\"],[0.2222222222222222,\"#7201a8\"],[0.3333333333333333,\"#9c179e\"],[0.4444444444444444,\"#bd3786\"],[0.5555555555555556,\"#d8576b\"],[0.6666666666666666,\"#ed7953\"],[0.7777777777777778,\"#fb9f3a\"],[0.8888888888888888,\"#fdca26\"],[1.0,\"#f0f921\"]],\"sequentialminus\":[[0.0,\"#0d0887\"],[0.1111111111111111,\"#46039f\"],[0.2222222222222222,\"#7201a8\"],[0.3333333333333333,\"#9c179e\"],[0.4444444444444444,\"#bd3786\"],[0.5555555555555556,\"#d8576b\"],[0.6666666666666666,\"#ed7953\"],[0.7777777777777778,\"#fb9f3a\"],[0.8888888888888888,\"#fdca26\"],[1.0,\"#f0f921\"]],\"diverging\":[[0,\"#8e0152\"],[0.1,\"#c51b7d\"],[0.2,\"#de77ae\"],[0.3,\"#f1b6da\"],[0.4,\"#fde0ef\"],[0.5,\"#f7f7f7\"],[0.6,\"#e6f5d0\"],[0.7,\"#b8e186\"],[0.8,\"#7fbc41\"],[0.9,\"#4d9221\"],[1,\"#276419\"]]},\"xaxis\":{\"gridcolor\":\"white\",\"linecolor\":\"white\",\"ticks\":\"\",\"title\":{\"standoff\":15},\"zerolinecolor\":\"white\",\"automargin\":true,\"zerolinewidth\":2},\"yaxis\":{\"gridcolor\":\"white\",\"linecolor\":\"white\",\"ticks\":\"\",\"title\":{\"standoff\":15},\"zerolinecolor\":\"white\",\"automargin\":true,\"zerolinewidth\":2},\"scene\":{\"xaxis\":{\"backgroundcolor\":\"#E5ECF6\",\"gridcolor\":\"white\",\"linecolor\":\"white\",\"showbackground\":true,\"ticks\":\"\",\"zerolinecolor\":\"white\",\"gridwidth\":2},\"yaxis\":{\"backgroundcolor\":\"#E5ECF6\",\"gridcolor\":\"white\",\"linecolor\":\"white\",\"showbackground\":true,\"ticks\":\"\",\"zerolinecolor\":\"white\",\"gridwidth\":2},\"zaxis\":{\"backgroundcolor\":\"#E5ECF6\",\"gridcolor\":\"white\",\"linecolor\":\"white\",\"showbackground\":true,\"ticks\":\"\",\"zerolinecolor\":\"white\",\"gridwidth\":2}},\"shapedefaults\":{\"line\":{\"color\":\"#2a3f5f\"}},\"annotationdefaults\":{\"arrowcolor\":\"#2a3f5f\",\"arrowhead\":0,\"arrowwidth\":1},\"geo\":{\"bgcolor\":\"white\",\"landcolor\":\"#E5ECF6\",\"subunitcolor\":\"white\",\"showland\":true,\"showlakes\":true,\"lakecolor\":\"white\"},\"title\":{\"x\":0.05},\"mapbox\":{\"style\":\"light\"}}},\"xaxis\":{\"anchor\":\"y\",\"domain\":[0.0,1.0],\"title\":{\"text\":\"Confidence\"}},\"yaxis\":{\"anchor\":\"x\",\"domain\":[0.7777777777777778,1.0],\"title\":{\"text\":\"Frequency\"}},\"xaxis2\":{\"anchor\":\"y2\",\"domain\":[0.0,1.0],\"title\":{\"text\":\"Lift\"}},\"yaxis2\":{\"anchor\":\"x2\",\"domain\":[0.3888888888888889,0.6111111111111112],\"title\":{\"text\":\"Frequency\"}},\"xaxis3\":{\"anchor\":\"y3\",\"domain\":[0.0,1.0],\"title\":{\"text\":\"Support\"}},\"yaxis3\":{\"anchor\":\"x3\",\"domain\":[0.0,0.22222222222222224],\"title\":{\"text\":\"Frequency\"}},\"annotations\":[{\"font\":{\"size\":16},\"showarrow\":false,\"text\":\"Distribution of Confidence\",\"x\":0.5,\"xanchor\":\"center\",\"xref\":\"paper\",\"y\":1.0,\"yanchor\":\"bottom\",\"yref\":\"paper\"},{\"font\":{\"size\":16},\"showarrow\":false,\"text\":\"Distribution of Lift\",\"x\":0.5,\"xanchor\":\"center\",\"xref\":\"paper\",\"y\":0.6111111111111112,\"yanchor\":\"bottom\",\"yref\":\"paper\"},{\"font\":{\"size\":16},\"showarrow\":false,\"text\":\"Distribution of Support\",\"x\":0.5,\"xanchor\":\"center\",\"xref\":\"paper\",\"y\":0.22222222222222224,\"yanchor\":\"bottom\",\"yref\":\"paper\"}],\"title\":{\"text\":\"Distribution of Confidence, Lift, and Support\"},\"height\":900,\"width\":800,\"showlegend\":false},                        {\"responsive\": true}                    ).then(function(){\n",
       "                            \n",
       "var gd = document.getElementById('8532911f-107a-4afa-aa85-b35ab27cc8e1');\n",
       "var x = new MutationObserver(function (mutations, observer) {{\n",
       "        var display = window.getComputedStyle(gd).display;\n",
       "        if (!display || display === 'none') {{\n",
       "            console.log([gd, 'removed!']);\n",
       "            Plotly.purge(gd);\n",
       "            observer.disconnect();\n",
       "        }}\n",
       "}});\n",
       "\n",
       "// Listen for the removal of the full notebook cells\n",
       "var notebookContainer = gd.closest('#notebook-container');\n",
       "if (notebookContainer) {{\n",
       "    x.observe(notebookContainer, {childList: true});\n",
       "}}\n",
       "\n",
       "// Listen for the clearing of the current output cell\n",
       "var outputEl = gd.closest('.output');\n",
       "if (outputEl) {{\n",
       "    x.observe(outputEl, {childList: true});\n",
       "}}\n",
       "\n",
       "                        })                };                });            </script>        </div>"
      ]
     },
     "metadata": {},
     "output_type": "display_data"
    }
   ],
   "source": [
    "# Create subplots in Plotly\n",
    "fig = make_subplots(rows=3, cols=1, subplot_titles=('Distribution of Confidence', \n",
    "                                                    'Distribution of Lift', \n",
    "                                                    'Distribution of Support'))\n",
    "\n",
    "# Confidence Histogram\n",
    "fig.add_trace(\n",
    "    go.Histogram(x=rules_c['confidence'], nbinsx=20, histnorm='density', name='Confidence'),\n",
    "    row=1, col=1\n",
    ")\n",
    "fig.add_trace(\n",
    "    go.Scatter(x=rules_c['confidence'], y=pd.Series(rules_c['confidence']).value_counts(normalize=True).sort_index(), \n",
    "               mode='lines', line=dict(color='red'), name='KDE'),\n",
    "    row=1, col=1\n",
    ")\n",
    "# Lift Histogram\n",
    "fig.add_trace(\n",
    "    go.Histogram(x=rules_l['lift'], nbinsx=20, histnorm='density', name='Lift'),\n",
    "    row=2, col=1\n",
    ")\n",
    "fig.add_trace(\n",
    "    go.Scatter(x=rules_l['lift'], y=pd.Series(rules_l['lift']).value_counts(normalize=True).sort_index(), \n",
    "               mode='lines', line=dict(color='red'), name='KDE'),\n",
    "    row=2, col=1\n",
    ")\n",
    "\n",
    "# Support Histogram\n",
    "fig.add_trace(\n",
    "    go.Histogram(x=rules_s['support'], nbinsx=20, histnorm='density', name='Support'),\n",
    "    row=3, col=1\n",
    ")\n",
    "fig.add_trace(go.Scatter(x=rules_s['support'], y=pd.Series(rules_s['support']).value_counts(normalize=True).sort_index(), \n",
    "               mode='lines', line=dict(color='red'), name='KDE'),\n",
    "    row=3, col=1\n",
    ")\n",
    "\n",
    "# Update layout\n",
    "fig.update_layout(height=900, width=800, title_text=\"Distribution of Confidence, Lift, and Support\", \n",
    "                  showlegend=False)\n",
    "\n",
    "# Update axes titles\n",
    "fig.update_xaxes(title_text=\"Confidence\", row=1, col=1)\n",
    "fig.update_yaxes(title_text=\"Frequency\", row=1, col=1)\n",
    "fig.update_xaxes(title_text=\"Lift\", row=2, col=1)\n",
    "fig.update_yaxes(title_text=\"Frequency\", row=2, col=1)\n",
    "fig.update_xaxes(title_text=\"Support\", row=3, col=1)\n",
    "fig.update_yaxes(title_text=\"Frequency\", row=3, col=1)\n",
    "\n",
    "fig.show()\n"
   ]
  },
  {
   "cell_type": "code",
   "execution_count": null,
   "id": "5d9e289c",
   "metadata": {
    "papermill": {
     "duration": 0.01198,
     "end_time": "2024-10-21T13:48:58.826040",
     "exception": false,
     "start_time": "2024-10-21T13:48:58.814060",
     "status": "completed"
    },
    "tags": []
   },
   "outputs": [],
   "source": []
  },
  {
   "cell_type": "code",
   "execution_count": null,
   "id": "6339101b",
   "metadata": {
    "papermill": {
     "duration": 0.011885,
     "end_time": "2024-10-21T13:48:58.850041",
     "exception": false,
     "start_time": "2024-10-21T13:48:58.838156",
     "status": "completed"
    },
    "tags": []
   },
   "outputs": [],
   "source": []
  },
  {
   "cell_type": "code",
   "execution_count": null,
   "id": "6f5574f6",
   "metadata": {
    "papermill": {
     "duration": 0.011842,
     "end_time": "2024-10-21T13:48:58.874050",
     "exception": false,
     "start_time": "2024-10-21T13:48:58.862208",
     "status": "completed"
    },
    "tags": []
   },
   "outputs": [],
   "source": []
  },
  {
   "cell_type": "code",
   "execution_count": null,
   "id": "c66d57e7",
   "metadata": {
    "papermill": {
     "duration": 0.012,
     "end_time": "2024-10-21T13:48:58.898148",
     "exception": false,
     "start_time": "2024-10-21T13:48:58.886148",
     "status": "completed"
    },
    "tags": []
   },
   "outputs": [],
   "source": []
  }
 ],
 "metadata": {
  "kaggle": {
   "accelerator": "none",
   "dataSources": [
    {
     "datasetId": 1779990,
     "sourceId": 2904404,
     "sourceType": "datasetVersion"
    }
   ],
   "dockerImageVersionId": 30786,
   "isGpuEnabled": false,
   "isInternetEnabled": false,
   "language": "python",
   "sourceType": "notebook"
  },
  "kernelspec": {
   "display_name": "Python 3",
   "language": "python",
   "name": "python3"
  },
  "language_info": {
   "codemirror_mode": {
    "name": "ipython",
    "version": 3
   },
   "file_extension": ".py",
   "mimetype": "text/x-python",
   "name": "python",
   "nbconvert_exporter": "python",
   "pygments_lexer": "ipython3",
   "version": "3.10.14"
  },
  "papermill": {
   "default_parameters": {},
   "duration": 51.355002,
   "end_time": "2024-10-21T13:48:59.632942",
   "environment_variables": {},
   "exception": null,
   "input_path": "__notebook__.ipynb",
   "output_path": "__notebook__.ipynb",
   "parameters": {},
   "start_time": "2024-10-21T13:48:08.277940",
   "version": "2.6.0"
  }
 },
 "nbformat": 4,
 "nbformat_minor": 5
}
